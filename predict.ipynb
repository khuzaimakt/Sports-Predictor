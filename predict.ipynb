{
 "cells": [
  {
   "cell_type": "code",
   "execution_count": 1,
   "metadata": {},
   "outputs": [
    {
     "name": "stdout",
     "output_type": "stream",
     "text": [
      "{'NYR': 50.2366304397583, 'NYI': 49.7633695602417}\n"
     ]
    }
   ],
   "source": [
    "import requests\n",
    "\n",
    "# Define the URL of the API endpoint\n",
    "url = \"https://hockey-prediction.onrender.com/api/predict_hockey\"\n",
    "\n",
    "# Example data with three parameters\n",
    "data = {\n",
    "    \"team\": \"NYR\",\n",
    "    \"opp_team\": \"NYI\"\n",
    "}\n",
    "\n",
    "# Send the POST request\n",
    "response = requests.post(url, json=data)\n",
    "\n",
    "# Print the response\n",
    "print(response.json())\n"
   ]
  },
  {
   "cell_type": "code",
   "execution_count": 2,
   "metadata": {},
   "outputs": [
    {
     "name": "stdout",
     "output_type": "stream",
     "text": [
      "{'score': '1.5974617'}\n"
     ]
    }
   ],
   "source": [
    "# Define the URL of the API endpoint\n",
    "url = \"https://hockey-prediction.onrender.com/api/predict_hockey\"\n",
    "\n",
    "# Example data with three parameters\n",
    "data = {\n",
    "    \"player\":\"Radek Dvorak\",\n",
    "    \"team\": \"NYR\",\n",
    "    \"opp_team\": \"NYI\"\n",
    "}\n",
    "\n",
    "# Send the POST request\n",
    "response = requests.post(url, json=data)\n",
    "\n",
    "# Print the response\n",
    "print(response.json())"
   ]
  }
 ],
 "metadata": {
  "kernelspec": {
   "display_name": "Python 3",
   "language": "python",
   "name": "python3"
  },
  "language_info": {
   "codemirror_mode": {
    "name": "ipython",
    "version": 3
   },
   "file_extension": ".py",
   "mimetype": "text/x-python",
   "name": "python",
   "nbconvert_exporter": "python",
   "pygments_lexer": "ipython3",
   "version": "3.12.2"
  }
 },
 "nbformat": 4,
 "nbformat_minor": 2
}
